{
 "cells": [
  {
   "cell_type": "markdown",
   "metadata": {},
   "source": [
    "# 定义扰动功能模块"
   ]
  },
  {
   "cell_type": "code",
   "execution_count": 246,
   "metadata": {},
   "outputs": [],
   "source": [
    "import numpy as np\n",
    "import torch\n",
    "from torch.autograd import Variable\n",
    "\n",
    "if torch.cuda.is_available():\n",
    "    device = torch.device('cuda')\n",
    "else:\n",
    "    device = torch.device('cpu')\n",
    "    \n",
    "\n",
    "class PerturbationTool():\n",
    "    def __init__(self, seed=0, epsilon=0.03137254901, num_steps=20, step_size=0.00784313725):\n",
    "        self.epsilon = epsilon\n",
    "        self.num_steps = num_steps\n",
    "        self.step_size = step_size\n",
    "        self.seed = seed\n",
    "        np.random.seed(seed)\n",
    "\n",
    "    def random_noise(self, noise_shape=[10, 3, 32, 32]):\n",
    "        random_noise = torch.FloatTensor(*noise_shape).uniform_(-self.epsilon, self.epsilon).to(device)\n",
    "        return random_noise\n",
    "\n",
    "    def min_min_attack(self, images, labels, model, optimizer, criterion, random_noise=None, sample_wise=False):\n",
    "        if random_noise is None:\n",
    "            random_noise = torch.FloatTensor(*images.shape).uniform_(-self.epsilon, self.epsilon).to(device)\n",
    "        \n",
    "        perturb_img = Variable(images.data + random_noise, requires_grad=True)\n",
    "        perturb_img = Variable(torch.clamp(perturb_img, 0, 1), requires_grad=True).reshape([1,3,32,32])\n",
    "        perturb_img = perturb_img.cuda().detach()\n",
    "        perturb_img.requires_grad = True\n",
    "\n",
    "        eta = random_noise\n",
    "        for _ in range(self.num_steps):\n",
    "            opt = torch.optim.SGD([perturb_img], lr=1e-3)\n",
    "            opt.zero_grad()\n",
    "            model.zero_grad()\n",
    "            if isinstance(criterion, torch.nn.CrossEntropyLoss):\n",
    "                if hasattr(model, 'classify'):\n",
    "                    model.classify = True\n",
    "                logits = model(perturb_img.reshape([1,3,32,32]))\n",
    "                logits = logits.view(-1, 1*10)\n",
    "                if len(labels)==1:\n",
    "                    labels = torch.tensor([lab for lab in labels for i in range(len(logits/10))]).cuda()\n",
    "                else:\n",
    "                    continue\n",
    "                loss = criterion(logits, labels)\n",
    "            else:\n",
    "                logits, loss = criterion(model, perturb_img, labels, optimizer)\n",
    "            perturb_img.retain_grad()\n",
    "            loss.backward()\n",
    "\n",
    "            eta = (self.step_size * perturb_img.grad.data.sign() * (-1)).reshape([3, 32, 32])\n",
    "            perturb_img = Variable(perturb_img.data + eta, requires_grad=True).reshape([3, 32, 32])\n",
    "            images = images.reshape([3, 32, 32])\n",
    "            eta = torch.clamp(perturb_img.data - images.data, -self.epsilon, self.epsilon)\n",
    "            perturb_img = Variable(images.data + eta, requires_grad=True)\n",
    "            perturb_img = Variable(torch.clamp(perturb_img, 0, 255), requires_grad=True)\n",
    "\n",
    "        return perturb_img, eta\n",
    "    \n",
    "    def min_max_attack(self, images, labels, model, optimizer, criterion, random_noise=None, sample_wise=False):\n",
    "        if random_noise is None:\n",
    "            random_noise = torch.FloatTensor(*images.shape).uniform_(-self.epsilon, self.epsilon).to(device)\n",
    "\n",
    "        perturb_img = Variable(images.data + random_noise, requires_grad=True)\n",
    "        perturb_img = Variable(torch.clamp(perturb_img, 0, 255), requires_grad=True).reshape([1,3,32,32])\n",
    "        perturb_img = perturb_img.cuda().detach()\n",
    "        perturb_img.requires_grad = True\n",
    "        eta = random_noise\n",
    "        for _ in range(self.num_steps):\n",
    "            opt = torch.optim.SGD([perturb_img], lr=1e-3)\n",
    "            opt.zero_grad()\n",
    "            model.zero_grad()\n",
    "            if isinstance(criterion, torch.nn.CrossEntropyLoss):\n",
    "                logits = model(perturb_img.reshape([1,3,32,32]))\n",
    "                logits = logits.view(-1, 1*10)\n",
    "                if len(labels)==1:\n",
    "                    labels = torch.tensor([lab for lab in labels for i in range(len(logits/10))]).cuda()\n",
    "                else:\n",
    "                    continue\n",
    "                loss = criterion(logits, labels)\n",
    "            else:\n",
    "                logits, loss = criterion(model, perturb_img, labels, optimizer)\n",
    "            loss.backward()\n",
    "\n",
    "            eta = self.step_size * perturb_img.grad.data.sign().reshape([3, 32, 32])\n",
    "            perturb_img = Variable(perturb_img.data + eta, requires_grad=True).reshape([3, 32, 32])\n",
    "            images = images.reshape([3, 32, 32])\n",
    "            eta = torch.clamp(perturb_img.data - images.data, -self.epsilon, self.epsilon)\n",
    "            perturb_img = Variable(images.data + eta, requires_grad=True)\n",
    "            perturb_img = Variable(torch.clamp(perturb_img, 0, 255), requires_grad=True)\n",
    "\n",
    "        return perturb_img, eta\n",
    "\n",
    "    def _patch_noise_extend_to_img(self, noise, image_size=[3, 32, 32], patch_location='center'):\n",
    "        c, h, w = image_size[0], image_size[1], image_size[2]\n",
    "        mask = np.zeros((c, h, w), np.float32)\n",
    "        x_len, y_len = noise.shape[1], noise.shape[1]\n",
    "\n",
    "        if patch_location == 'center' or (h == w == x_len == y_len):\n",
    "            x = h // 2\n",
    "            y = w // 2\n",
    "        elif patch_location == 'random':\n",
    "            x = np.random.randint(x_len // 2, w - x_len // 2)\n",
    "            y = np.random.randint(y_len // 2, h - y_len // 2)\n",
    "        else:\n",
    "            raise('Invalid patch location')\n",
    "\n",
    "        x1 = np.clip(x - x_len // 2, 0, h)\n",
    "        x2 = np.clip(x + x_len // 2, 0, h)\n",
    "        y1 = np.clip(y - y_len // 2, 0, w)\n",
    "        y2 = np.clip(y + y_len // 2, 0, w)\n",
    "        if type(noise) is np.ndarray:\n",
    "            pass\n",
    "        else:\n",
    "            mask[:, x1: x2, y1: y2] = noise.cpu().numpy()\n",
    "        return ((x1, x2, y1, y2), torch.from_numpy(mask).to(device))\n",
    "\n"
   ]
  },
  {
   "cell_type": "code",
   "execution_count": 265,
   "metadata": {},
   "outputs": [
    {
     "name": "stdout",
     "output_type": "stream",
     "text": [
      "Files already downloaded and verified\n",
      "Files already downloaded and verified\n"
     ]
    }
   ],
   "source": [
    "root = '../datasets/'\n",
    "BATCH_SIZE = 128\n",
    "device = torch.device(\"cuda:0\" if torch.cuda.is_available() else \"cpu\")\n",
    "NUM_POISON = 50\n",
    "\n",
    "train_transform = [\n",
    "    transforms.ToTensor()\n",
    "]\n",
    "test_transform = [\n",
    "    transforms.ToTensor()\n",
    "]\n",
    "train_transform = transforms.Compose(train_transform)\n",
    "test_transform = transforms.Compose(test_transform)\n",
    "\n",
    "clean_train_dataset = datasets.CIFAR10(root, train=True, download=True, transform=train_transform)\n",
    "clean_test_dataset = datasets.CIFAR10(root, train=False, download=True, transform=test_transform)\n",
    "\n",
    "clean_train_loader = DataLoader(dataset=clean_train_dataset, batch_size=BATCH_SIZE,\n",
    "                                shuffle=False, pin_memory=True,\n",
    "                                drop_last=False, num_workers=12)\n",
    "clean_test_loader = DataLoader(dataset=clean_test_dataset, batch_size=BATCH_SIZE,\n",
    "                                shuffle=False, pin_memory=True,\n",
    "                                drop_last=False, num_workers=12)"
   ]
  },
  {
   "cell_type": "code",
   "execution_count": 273,
   "metadata": {},
   "outputs": [],
   "source": [
    "import torch\n",
    "from torch.utils.data import DataLoader\n",
    "from torch.autograd import Variable\n",
    "import torchvision\n",
    "from torchvision import datasets, transforms\n",
    "\n",
    "import numpy as np\n",
    "from tqdm import tqdm\n",
    "\n",
    "from models.ResNet import ResNet18\n",
    "from util import AverageMeter\n",
    "\n",
    "import random\n",
    "import matplotlib.pyplot as plt\n",
    "import matplotlib\n",
    "\n",
    "CLASS = ['airplane', 'automobile', 'bird', 'cat', 'deer', 'dog', 'frog', 'horse', 'ship', 'truck']\n",
    "train_transform = [\n",
    "        transforms.ToTensor()\n",
    "    ]\n",
    "train_transform = transforms.Compose(train_transform)\n",
    "\n",
    "def find_similar_img(target, k=50):\n",
    "    trainDataLoader = torch.utils.data.DataLoader(dataset=clean_train_dataset, batch_size=1)\n",
    "    processBar = tqdm(trainDataLoader, unit='step')\n",
    "    sims = {}\n",
    "    for index, (trainImgs, labels) in enumerate(processBar):\n",
    "        trainImgs = trainImgs.to(device)\n",
    "        cos_sim = torch.nn.functional.cosine_similarity(target.flatten(), trainImgs.flatten(), dim=0)\n",
    "        sims[index] = cos_sim\n",
    "    sims = sorted(sims.items(), key=lambda x: x[1], reverse=True)\n",
    "    # print(sims[:10])  # (9881, tensor(0.9158))\n",
    "    # print(sims[0][0])  # 9881\n",
    "    \n",
    "    sim_group = []\n",
    "    for i in range(k):\n",
    "        sim_group.append(sims[i][0])\n",
    "\n",
    "    return sim_group\n",
    "\n",
    "def linear_interpolation(target_img, sim_id_group, alpha=0.5):\n",
    "    target_img = target_img.cuda()\n",
    "    ip_img = []\n",
    "    sim_img = []\n",
    "    trainDataLoader = torch.utils.data.DataLoader(dataset=clean_train_dataset, batch_size=1)\n",
    "    processBar = tqdm(trainDataLoader, unit='step')\n",
    "    for index, (trainImgs, labels) in enumerate(processBar):\n",
    "        if index in sim_id_group:\n",
    "            sim_img.append(trainImgs)\n",
    "    for img in sim_img:\n",
    "        img = img.cuda().reshape([32,32,3])\n",
    "        interpolation = alpha * target_img + (1-alpha) * img\n",
    "        ip_img.append(interpolation)\n",
    "    ip_img = torch.tensor([img.cpu().detach().numpy() for img in ip_img]).cuda().float()\n",
    "    return ip_img\n",
    "\n",
    "def create_poison_data(new_imgs):\n",
    "    poison_dataset = torch.tensor([img.cpu().detach().numpy() for img in new_imgs]).cuda()\n",
    "    for i in range(len(poison_dataset)):\n",
    "        poison_dataset.data[i] = torch.clamp(poison_dataset.data[i], 0, 255)\n",
    "    return poison_dataset.cuda()\n",
    "\n",
    "\n",
    "\n",
    "def train_new_poisoned_model(poison_dataset, MAX_EPOCH=20, BATCH_SIZE=128):\n",
    "    model = ResNet18()\n",
    "    model = model.cuda()\n",
    "    criterion = torch.nn.CrossEntropyLoss()\n",
    "    optimizer = torch.optim.SGD(params=model.parameters(), lr=0.1, weight_decay=0.0005, momentum=0.9)\n",
    "    scheduler = torch.optim.lr_scheduler.CosineAnnealingLR(optimizer, T_max=30, eta_min=0)\n",
    "\n",
    "    unlearnable_loader = DataLoader(poison_dataset, BATCH_SIZE=BATCH_SIZE,\n",
    "                                    shuffle=True, pin_memory=True,\n",
    "                                    drop_last=False, num_workers=12)\n",
    "    clean_train_dataset = datasets.CIFAR10(root, train=True, download=True, transform=train_transform)\n",
    "    clean_loader = DataLoader(clean_train_dataset, BATCH_SIZE=BATCH_SIZE,\n",
    "                                    shuffle=True, pin_memory=True,\n",
    "                                    drop_last=False, num_workers=12)\n",
    "    clean_test_dataset = datasets.CIFAR10(root, train=False, download=True, transform=test_transform)\n",
    "    clean_test_loader = DataLoader(dataset=clean_test_dataset, BATCH_SIZE=BATCH_SIZE,\n",
    "                                    shuffle=False, pin_memory=True,\n",
    "                                    drop_last=False, num_workers=12)\n",
    "    \n",
    "    for epoch in range(MAX_EPOCH):\n",
    "        model.train()\n",
    "        acc_meter = AverageMeter()\n",
    "        loss_meter = AverageMeter()\n",
    "        pbar = tqdm([unlearnable_loader, clean_loader], total=len(unlearnable_loader, clean_loader))\n",
    "        for images, labels in pbar:\n",
    "            images, labels = images.cuda(), labels\n",
    "            model.zero_grad()\n",
    "            optimizer.zero_grad()\n",
    "            logits = model(images)\n",
    "            loss = criterion(logits, labels)\n",
    "            loss.backward()\n",
    "            torch.nn.utils.clip_grad_norm_(model.parameters(), 5.0)\n",
    "            optimizer.step()\n",
    "            \n",
    "            _, predicted = torch.max(logits.data, 1)\n",
    "            acc = (predicted == labels).sum().item()/labels.size(0)\n",
    "            acc_meter.update(acc)\n",
    "            loss_meter.update(loss.item())\n",
    "            pbar.set_description(\"Acc %.4f Loss: %.4f\" % (acc_meter.avg*100, loss_meter.avg))\n",
    "        scheduler.step()\n",
    "        # Eval\n",
    "        model.eval()\n",
    "        correct, total = 0, 0\n",
    "        for i, (images, labels) in enumerate(clean_test_loader):\n",
    "            images, labels = images.cuda(), labels.cuda()\n",
    "            with torch.no_grad():\n",
    "                logits = model(images)\n",
    "                _, predicted = torch.max(logits.data, 1)\n",
    "                total += labels.size(0)\n",
    "                correct += (predicted == labels).sum().item()\n",
    "        acc = correct / total\n",
    "        tqdm.write('Clean Accuracy %.4f\\n' % (acc*100))\n",
    "        # Test target class\n",
    "        target = torch.tensor(clean_test_dataset.data[8745]).to(device)\n",
    "        with torch.no_grad():\n",
    "            logits = model(target)\n",
    "            _, predicted = torch.max(logits.data, 1)\n",
    "            # print(CLASS[int(predicted)])\n",
    "    return predicted\n",
    "\n",
    "\n"
   ]
  },
  {
   "cell_type": "code",
   "execution_count": 248,
   "metadata": {},
   "outputs": [],
   "source": [
    "def generate_noise(base_model, criterion, optimizer, interpolation_imgs, intended_labels, MAX_ITERATION=10):\n",
    "    noise = torch.zeros([len(interpolation_imgs), 3, 32, 32]).to(device)\n",
    "    data_iter = iter(interpolation_imgs)\n",
    "    target_labels = torch.tensor([intended_labels,]).to(device)\n",
    "    condition = True\n",
    "    train_idx = 0\n",
    "\n",
    "    while condition:\n",
    "        # optimize theta for M steps\n",
    "        base_model.train()\n",
    "        for param in base_model.parameters():\n",
    "            param.requires_grad = True\n",
    "        for j in range(0, 10):\n",
    "            try:\n",
    "                images = next(data_iter)\n",
    "            except:\n",
    "                train_idx = 0\n",
    "                data_iter = iter(interpolation_imgs)\n",
    "                images = next(data_iter)\n",
    "            \n",
    "            for i, _ in enumerate(images):\n",
    "                # Update noise to images\n",
    "                images = images.reshape([1, 3, 32, 32])\n",
    "                images += noise[train_idx]\n",
    "                train_idx += 1 if train_idx != len(interpolation_imgs)-1 else 0\n",
    "            images, target_labels = images.cuda(), target_labels.cuda()\n",
    "            base_model.zero_grad()\n",
    "            optimizer.zero_grad()\n",
    "            logits = base_model(images)\n",
    "            loss = criterion(logits, target_labels)\n",
    "            loss.backward()\n",
    "            torch.nn.utils.clip_grad_norm_(base_model.parameters(), 5.0)\n",
    "            optimizer.step()\n",
    "        \n",
    "        # Perturbation over entire interpolation_imgs\n",
    "        idx = 0\n",
    "        for param in base_model.parameters():\n",
    "            param.requires_grad = False\n",
    "        \n",
    "        perturb_img_list = []\n",
    "        for i, (images) in tqdm(enumerate(interpolation_imgs), total=len(interpolation_imgs)):\n",
    "            perturb_img, eta = noise_generator.min_min_attack(images, target_labels, base_model, optimizer, criterion)\n",
    "            perturb_img_list.append(perturb_img.clone().detach().cpu())\n",
    "        for i, delta in enumerate(eta):\n",
    "            noise[i] = delta.clone().detach().cpu()\n",
    "            \n",
    "            \n",
    "        # Eval stop condition\n",
    "        eval_idx, total, correct = 0, 0, 0\n",
    "        for i, (images) in enumerate(interpolation_imgs):\n",
    "            for i, _ in enumerate(images):\n",
    "                # Update noise to images\n",
    "                images = images + noise[eval_idx].reshape([32,32,3])\n",
    "                eval_idx += 1 if eval_idx != len(interpolation_imgs)-1 else 0\n",
    "            images, target_labels = images.cuda(), target_labels.cuda()\n",
    "            with torch.no_grad():\n",
    "                logits = base_model(images.reshape([1,3,32,32]))\n",
    "                _, predicted = torch.max(logits.data, 1)\n",
    "                total += target_labels.size(0)\n",
    "                correct += (predicted == target_labels).sum().item()\n",
    "        acc = correct / total\n",
    "        print('Accuracy %.4f' % (acc*100))\n",
    "        if acc > 0.9500:\n",
    "            condition=False     \n",
    "            \n",
    "    perturb_img_list = torch.tensor([img.cpu().detach().numpy() for img in perturb_img_list]).cuda().float()\n",
    "    noise = torch.tensor([img.cpu().detach().numpy() for img in noise]).cuda().float()\n",
    "    \n",
    "    return perturb_img_list, noise"
   ]
  },
  {
   "cell_type": "markdown",
   "metadata": {},
   "source": [
    "# 初始化设置"
   ]
  },
  {
   "cell_type": "code",
   "execution_count": 267,
   "metadata": {},
   "outputs": [],
   "source": [
    "clean_target = (torch.tensor(clean_test_dataset.data[8745]).to(device).float())/255\n",
    "clean_label = torch.tensor([5,]).to(device)\n",
    "\n",
    "torch.backends.cudnn.enabled = True\n",
    "torch.backends.cudnn.benchmark = True\n",
    "\n",
    "base_model = ResNet18()\n",
    "base_model = base_model.cuda()\n",
    "criterion = torch.nn.CrossEntropyLoss()\n",
    "optimizer = torch.optim.SGD(params=base_model.parameters(), lr=0.1, weight_decay=0.0005, momentum=0.9)\n",
    "\n",
    "noise_generator = PerturbationTool(epsilon=0.03137254901960784, num_steps=20, step_size=0.0031372549019607846)"
   ]
  },
  {
   "cell_type": "markdown",
   "metadata": {},
   "source": [
    "# 从训练集中找出相似度较高的图像"
   ]
  },
  {
   "cell_type": "code",
   "execution_count": 270,
   "metadata": {},
   "outputs": [
    {
     "name": "stderr",
     "output_type": "stream",
     "text": [
      "100%|██████████| 50000/50000 [00:22<00:00, 2218.78step/s]\n"
     ]
    }
   ],
   "source": [
    "# print(clean_target)\n",
    "similar_imgs = find_similar_img(clean_target, NUM_POISON)"
   ]
  },
  {
   "cell_type": "code",
   "execution_count": 274,
   "metadata": {},
   "outputs": [
    {
     "name": "stderr",
     "output_type": "stream",
     "text": [
      "100%|██████████| 50000/50000 [00:11<00:00, 4316.62step/s]\n"
     ]
    }
   ],
   "source": [
    "interpolation_imgs = linear_interpolation(target, similar_imgs, alpha=0.9)\n",
    "# print(interpolation_imgs)"
   ]
  },
  {
   "cell_type": "markdown",
   "metadata": {},
   "source": [
    "# 线性插值，创建毒物集并加入扰动"
   ]
  },
  {
   "cell_type": "code",
   "execution_count": 279,
   "metadata": {},
   "outputs": [
    {
     "name": "stderr",
     "output_type": "stream",
     "text": [
      "100%|██████████| 50/50 [00:09<00:00,  5.24it/s]\n"
     ]
    },
    {
     "name": "stdout",
     "output_type": "stream",
     "text": [
      "Accuracy 100.0000\n"
     ]
    }
   ],
   "source": [
    "raw_dataset = create_poison_data(interpolation_imgs)\n",
    "raw_dataset /= 255\n",
    "perturb_img_list, noise = generate_noise(base_model, criterion, optimizer, raw_dataset, intended_labels=torch.tensor(3), MAX_ITERATION=10)"
   ]
  },
  {
   "cell_type": "code",
   "execution_count": 283,
   "metadata": {},
   "outputs": [
    {
     "name": "stderr",
     "output_type": "stream",
     "text": [
      "Clipping input data to the valid range for imshow with RGB data ([0..1] for floats or [0..255] for integers).\n"
     ]
    },
    {
     "data": {
      "image/png": "[encoded data removed]",
      "text/plain": [
       "<Figure size 640x640 with 1 Axes>"
      ]
     },
     "metadata": {},
     "output_type": "display_data"
    }
   ],
   "source": [
    "import random\n",
    "import matplotlib.pyplot as plt\n",
    "import matplotlib\n",
    "\n",
    "def imshow(img):\n",
    "    fig = plt.figure(figsize=(8, 8), dpi=80, facecolor='w', edgecolor='k')\n",
    "    npimg = img.detach().cpu().numpy()\n",
    "    plt.imshow(np.transpose(npimg, (1, 2, 0)))\n",
    "    plt.show()\n",
    "    \n",
    "def get_pairs_of_imgs(idx):\n",
    "    clean_img = interpolation_imgs.data[idx].reshape([3,32,32])\n",
    "    unlearnable_img = perturb_img_list.data[idx]\n",
    "\n",
    "    x = noise[idx]\n",
    "    x_min = torch.min(x)\n",
    "    x_max = torch.max(x)\n",
    "    noise_norm = (x - x_min) / (x_max - x_min)\n",
    "    noise_norm = torch.clamp(noise_norm, 0, 1)\n",
    "    # print([clean_img.cuda(), noise_norm, unlearnable_img])\n",
    "    return [clean_img.cuda(), noise_norm, unlearnable_img]\n",
    "    \n",
    "selected_idx = [0,1,2]\n",
    "img_grid = []\n",
    "for idx in selected_idx:\n",
    "    img_grid += get_pairs_of_imgs(idx)\n",
    "    \n",
    "\n",
    "imshow(torchvision.utils.make_grid(torch.stack(img_grid), nrow=3, pad_value=255))"
   ]
  },
  {
   "cell_type": "code",
   "execution_count": 282,
   "metadata": {},
   "outputs": [
    {
     "ename": "TypeError",
     "evalue": "__init__() got an unexpected keyword argument 'BATCH_SIZE'",
     "output_type": "error",
     "traceback": [
      "\u001b[0;31m---------------------------------------------------------------------------\u001b[0m",
      "\u001b[0;31mTypeError\u001b[0m                                 Traceback (most recent call last)",
      "Input \u001b[0;32mIn [282]\u001b[0m, in \u001b[0;36m<cell line: 1>\u001b[0;34m()\u001b[0m\n\u001b[0;32m----> 1\u001b[0m predict \u001b[38;5;241m=\u001b[39m \u001b[43mtrain_new_poisoned_model\u001b[49m\u001b[43m(\u001b[49m\u001b[43mpoison_dataset\u001b[49m\u001b[43m)\u001b[49m\n\u001b[1;32m      2\u001b[0m \u001b[38;5;28mprint\u001b[39m(\u001b[38;5;124m'\u001b[39m\u001b[38;5;124mTarget 8745[dog] is classified as type \u001b[39m\u001b[38;5;132;01m{}\u001b[39;00m\u001b[38;5;124m'\u001b[39m\u001b[38;5;241m.\u001b[39mformat(CLASS[\u001b[38;5;28mint\u001b[39m(predict)]))\n",
      "Input \u001b[0;32mIn [273]\u001b[0m, in \u001b[0;36mtrain_new_poisoned_model\u001b[0;34m(poison_dataset, MAX_EPOCH, BATCH_SIZE)\u001b[0m\n\u001b[1;32m     69\u001b[0m optimizer \u001b[38;5;241m=\u001b[39m torch\u001b[38;5;241m.\u001b[39moptim\u001b[38;5;241m.\u001b[39mSGD(params\u001b[38;5;241m=\u001b[39mmodel\u001b[38;5;241m.\u001b[39mparameters(), lr\u001b[38;5;241m=\u001b[39m\u001b[38;5;241m0.1\u001b[39m, weight_decay\u001b[38;5;241m=\u001b[39m\u001b[38;5;241m0.0005\u001b[39m, momentum\u001b[38;5;241m=\u001b[39m\u001b[38;5;241m0.9\u001b[39m)\n\u001b[1;32m     70\u001b[0m scheduler \u001b[38;5;241m=\u001b[39m torch\u001b[38;5;241m.\u001b[39moptim\u001b[38;5;241m.\u001b[39mlr_scheduler\u001b[38;5;241m.\u001b[39mCosineAnnealingLR(optimizer, T_max\u001b[38;5;241m=\u001b[39m\u001b[38;5;241m30\u001b[39m, eta_min\u001b[38;5;241m=\u001b[39m\u001b[38;5;241m0\u001b[39m)\n\u001b[0;32m---> 72\u001b[0m unlearnable_loader \u001b[38;5;241m=\u001b[39m \u001b[43mDataLoader\u001b[49m\u001b[43m(\u001b[49m\u001b[43mpoison_dataset\u001b[49m\u001b[43m,\u001b[49m\u001b[43m \u001b[49m\u001b[43mBATCH_SIZE\u001b[49m\u001b[38;5;241;43m=\u001b[39;49m\u001b[43mBATCH_SIZE\u001b[49m\u001b[43m,\u001b[49m\n\u001b[1;32m     73\u001b[0m \u001b[43m                                \u001b[49m\u001b[43mshuffle\u001b[49m\u001b[38;5;241;43m=\u001b[39;49m\u001b[38;5;28;43;01mTrue\u001b[39;49;00m\u001b[43m,\u001b[49m\u001b[43m \u001b[49m\u001b[43mpin_memory\u001b[49m\u001b[38;5;241;43m=\u001b[39;49m\u001b[38;5;28;43;01mTrue\u001b[39;49;00m\u001b[43m,\u001b[49m\n\u001b[1;32m     74\u001b[0m \u001b[43m                                \u001b[49m\u001b[43mdrop_last\u001b[49m\u001b[38;5;241;43m=\u001b[39;49m\u001b[38;5;28;43;01mFalse\u001b[39;49;00m\u001b[43m,\u001b[49m\u001b[43m \u001b[49m\u001b[43mnum_workers\u001b[49m\u001b[38;5;241;43m=\u001b[39;49m\u001b[38;5;241;43m12\u001b[39;49m\u001b[43m)\u001b[49m\n\u001b[1;32m     75\u001b[0m clean_train_dataset \u001b[38;5;241m=\u001b[39m datasets\u001b[38;5;241m.\u001b[39mCIFAR10(root, train\u001b[38;5;241m=\u001b[39m\u001b[38;5;28;01mTrue\u001b[39;00m, download\u001b[38;5;241m=\u001b[39m\u001b[38;5;28;01mTrue\u001b[39;00m, transform\u001b[38;5;241m=\u001b[39mtrain_transform)\n\u001b[1;32m     76\u001b[0m clean_loader \u001b[38;5;241m=\u001b[39m DataLoader(clean_train_dataset, BATCH_SIZE\u001b[38;5;241m=\u001b[39mBATCH_SIZE,\n\u001b[1;32m     77\u001b[0m                                 shuffle\u001b[38;5;241m=\u001b[39m\u001b[38;5;28;01mTrue\u001b[39;00m, pin_memory\u001b[38;5;241m=\u001b[39m\u001b[38;5;28;01mTrue\u001b[39;00m,\n\u001b[1;32m     78\u001b[0m                                 drop_last\u001b[38;5;241m=\u001b[39m\u001b[38;5;28;01mFalse\u001b[39;00m, num_workers\u001b[38;5;241m=\u001b[39m\u001b[38;5;241m12\u001b[39m)\n",
      "\u001b[0;31mTypeError\u001b[0m: __init__() got an unexpected keyword argument 'BATCH_SIZE'"
     ]
    }
   ],
   "source": [
    "predict = train_new_poisoned_model(poison_dataset)\n",
    "print('Target 8745[dog] is classified as type {}'.format(CLASS[int(predict)]))"
   ]
  },
  {
   "cell_type": "code",
   "execution_count": null,
   "metadata": {},
   "outputs": [],
   "source": []
  }
 ],
 "metadata": {
  "kernelspec": {
   "display_name": "Python 3 (ipykernel)",
   "language": "python",
   "name": "python3"
  },
  "language_info": {
   "codemirror_mode": {
    "name": "ipython",
    "version": 3
   },
   "file_extension": ".py",
   "mimetype": "text/x-python",
   "name": "python",
   "nbconvert_exporter": "python",
   "pygments_lexer": "ipython3",
   "version": "3.9.12"
  },
  "vscode": {
   "interpreter": {
    "hash": "4932ccbec8dcca49d9ef47811dcb7514042770e3fab3c95640310a655c241a7c"
   }
  }
 },
 "nbformat": 4,
 "nbformat_minor": 4
}
