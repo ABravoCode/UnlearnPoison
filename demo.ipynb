{
 "cells": [
  {
   "cell_type": "markdown",
   "metadata": {},
   "source": [
    "# 定义扰动功能模块"
   ]
  },
  {
   "cell_type": "code",
   "execution_count": 125,
   "metadata": {},
   "outputs": [],
   "source": [
    "import torch\n",
    "from torch.utils.data import DataLoader\n",
    "from torch.autograd import Variable\n",
    "import torchvision\n",
    "from torchvision import datasets, transforms\n",
    "\n",
    "import numpy as np\n",
    "from tqdm import tqdm\n",
    "\n",
    "from models.ResNet import ResNet18\n",
    "from util import AverageMeter\n",
    "\n",
    "import random\n",
    "import matplotlib.pyplot as plt\n",
    "import matplotlib\n",
    "\n",
    "import random\n",
    "import matplotlib.pyplot as plt\n",
    "import matplotlib\n",
    "\n",
    "def imshow(img, trans=(0,1,2)):  # (32, 32, 3)\n",
    "    fig = plt.figure(figsize=(8, 8), dpi=80, facecolor='w', edgecolor='k')\n",
    "    npimg = img.detach().cpu().numpy()\n",
    "    transimg = np.transpose(npimg, trans)\n",
    "    plt.imshow(transimg)\n",
    "    plt.show()\n",
    "\n",
    "CLASS = ['airplane', 'automobile', 'bird', 'cat', 'deer', 'dog', 'frog', 'horse', 'ship', 'truck']\n",
    "device = torch.device(\"cuda:0\" if torch.cuda.is_available() else \"cpu\")\n",
    "    \n",
    "clean_target_id = 7043\n",
    "clean_label = torch.tensor([6,]).to(device)\n",
    "INTENDED_LABELS = random.randint(0,9)\n",
    "while INTENDED_LABELS == clean_label:\n",
    "    INTENDED_LABELS = random.randint(0,9)\n",
    "root = '../datasets/'\n",
    "BATCH_SIZE = 16\n",
    "NUM_POISON = 50"
   ]
  },
  {
   "cell_type": "code",
   "execution_count": 126,
   "metadata": {},
   "outputs": [],
   "source": [
    "import numpy as np\n",
    "import torch\n",
    "from torch.autograd import Variable\n",
    "\n",
    "if torch.cuda.is_available():\n",
    "    device = torch.device('cuda')\n",
    "else:\n",
    "    device = torch.device('cpu')\n",
    "    \n",
    "\n",
    "class PerturbationTool():\n",
    "    def __init__(self, seed=0, epsilon=0.03137254901, num_steps=20, step_size=0.00784313725):\n",
    "        self.epsilon = epsilon\n",
    "        self.num_steps = num_steps\n",
    "        self.step_size = step_size\n",
    "        self.seed = seed\n",
    "        np.random.seed(seed)\n",
    "\n",
    "    def random_noise(self, noise_shape=[50, 32, 32, 3]):\n",
    "        random_noise = torch.FloatTensor(*noise_shape).uniform_(-self.epsilon, self.epsilon).to(device)\n",
    "        return random_noise\n",
    "\n",
    "    def min_min_attack(self, images, labels, model, optimizer, criterion, random_noise=None, sample_wise=False):\n",
    "        if random_noise is None:\n",
    "            random_noise = torch.FloatTensor(*images.shape).uniform_(-self.epsilon, self.epsilon).to(device)\n",
    "        \n",
    "        images = images.reshape([1, 32, 32, 3])\n",
    "        perturb_img = Variable(images.data + random_noise, requires_grad=True)\n",
    "        perturb_img = Variable(torch.clamp(perturb_img, 0, 1), requires_grad=True)\n",
    "        perturb_img = perturb_img.cuda().detach()\n",
    "        perturb_img.requires_grad = True\n",
    "\n",
    "        eta = random_noise\n",
    "        for _ in range(self.num_steps):\n",
    "            opt = torch.optim.SGD([perturb_img], lr=1e-3)\n",
    "            opt.zero_grad()\n",
    "            model.zero_grad()\n",
    "            if isinstance(criterion, torch.nn.CrossEntropyLoss):\n",
    "                if hasattr(model, 'classify'):\n",
    "                    model.classify = True\n",
    "                perturb_img = torch.tensor(np.transpose(perturb_img.detach().cpu().numpy(), (0, 3, 1, 2)), requires_grad=True).cuda()\n",
    "                logits = model(perturb_img)\n",
    "                logits = logits.view(-1, 1*10)\n",
    "                if len(labels)==1:\n",
    "                    labels = torch.tensor([lab for lab in labels for i in range(len(logits/10))]).cuda()\n",
    "                else:\n",
    "                    continue\n",
    "                loss = criterion(logits, labels)\n",
    "            else:\n",
    "                logits, loss = criterion(model, perturb_img, labels, optimizer)    \n",
    "            perturb_img.retain_grad()\n",
    "            loss.backward()\n",
    "            perturb_img_grad = perturb_img.grad.squeeze(0)\n",
    "            perturb_img_grad = torch.tensor(np.transpose(perturb_img_grad.detach().cpu().numpy(), (1, 2, 0))).cuda()\n",
    "            perturb_img_data = perturb_img.data.squeeze(0)\n",
    "            perturb_img_data = torch.tensor(np.transpose(perturb_img_data.detach().cpu().numpy(), (1, 2, 0))).cuda()\n",
    "            # print(perturb_img_data.shape)\n",
    "            # print(perturb_img_grad.shape)\n",
    "            # print(eta.shape)\n",
    "            eta = (self.step_size * perturb_img_grad.data.sign() * (-1))\n",
    "            perturb_img = Variable(perturb_img_data + eta, requires_grad=True)\n",
    "            eta = torch.clamp(perturb_img.data - images.data, -self.epsilon, self.epsilon)\n",
    "            perturb_img = Variable(images.data + eta, requires_grad=True)\n",
    "            perturb_img = Variable(torch.clamp(perturb_img, 0, 1), requires_grad=True)\n",
    "\n",
    "        return perturb_img, eta\n",
    "\n",
    "    def _patch_noise_extend_to_img(self, noise, image_size=[3, 32, 32], patch_location='center'):\n",
    "        c, h, w = image_size[0], image_size[1], image_size[2]\n",
    "        mask = np.zeros((c, h, w), np.float32)\n",
    "        x_len, y_len = noise.shape[1], noise.shape[1]\n",
    "\n",
    "        if patch_location == 'center' or (h == w == x_len == y_len):\n",
    "            x = h // 2\n",
    "            y = w // 2\n",
    "        elif patch_location == 'random':\n",
    "            x = np.random.randint(x_len // 2, w - x_len // 2)\n",
    "            y = np.random.randint(y_len // 2, h - y_len // 2)\n",
    "        else:\n",
    "            raise('Invalid patch location')\n",
    "\n",
    "        x1 = np.clip(x - x_len // 2, 0, h)\n",
    "        x2 = np.clip(x + x_len // 2, 0, h)\n",
    "        y1 = np.clip(y - y_len // 2, 0, w)\n",
    "        y2 = np.clip(y + y_len // 2, 0, w)\n",
    "        if type(noise) is np.ndarray:\n",
    "            pass\n",
    "        else:\n",
    "            mask[:, x1: x2, y1: y2] = noise.cpu().numpy()\n",
    "        return ((x1, x2, y1, y2), torch.from_numpy(mask).to(device))\n",
    "\n"
   ]
  },
  {
   "cell_type": "code",
   "execution_count": 127,
   "metadata": {},
   "outputs": [
    {
     "name": "stdout",
     "output_type": "stream",
     "text": [
      "Files already downloaded and verified\n",
      "Files already downloaded and verified\n"
     ]
    },
    {
     "data": {
      "image/png": "[encoded data removed]",
      "text/plain": [
       "<Figure size 640x640 with 1 Axes>"
      ]
     },
     "metadata": {},
     "output_type": "display_data"
    }
   ],
   "source": [
    "train_transform = [\n",
    "    transforms.ToTensor()\n",
    "]\n",
    "test_transform = [\n",
    "    transforms.ToTensor()\n",
    "]\n",
    "train_transform = transforms.Compose(train_transform)\n",
    "test_transform = transforms.Compose(test_transform)\n",
    "\n",
    "clean_train_dataset = datasets.CIFAR10(root, train=True, download=True, transform=train_transform)\n",
    "clean_test_dataset = datasets.CIFAR10(root, train=False, download=True, transform=test_transform)\n",
    "\n",
    "clean_train_loader = DataLoader(dataset=clean_train_dataset, batch_size=BATCH_SIZE,\n",
    "                                shuffle=False, pin_memory=True,\n",
    "                                drop_last=False, num_workers=12)\n",
    "clean_test_loader = DataLoader(dataset=clean_test_dataset, batch_size=BATCH_SIZE,\n",
    "                                shuffle=False, pin_memory=True,\n",
    "                                drop_last=False, num_workers=12)\n",
    "\n",
    "clean_target = torch.tensor(clean_test_dataset.data[clean_target_id].astype(np.float32)/255).cuda()\n",
    "imshow(clean_target)\n",
    "# print(clean_target)"
   ]
  },
  {
   "cell_type": "code",
   "execution_count": 128,
   "metadata": {},
   "outputs": [],
   "source": [
    "import torch\n",
    "from torch.utils.data import DataLoader\n",
    "from torch.autograd import Variable\n",
    "import torchvision\n",
    "from torchvision import datasets, transforms\n",
    "\n",
    "import numpy as np\n",
    "from tqdm import tqdm\n",
    "\n",
    "from models.ResNet import ResNet18\n",
    "from util import AverageMeter\n",
    "\n",
    "import random\n",
    "import matplotlib.pyplot as plt\n",
    "import matplotlib\n",
    "\n",
    "train_transform = [\n",
    "        transforms.ToTensor()\n",
    "    ]\n",
    "train_transform = transforms.Compose(train_transform)\n",
    "\n",
    "def find_similar_img(target, k=50):\n",
    "    trainDataLoader = torch.utils.data.DataLoader(dataset=clean_train_dataset, batch_size=1)\n",
    "    processBar = tqdm(trainDataLoader, unit='step')\n",
    "    sims = {}\n",
    "    for index, (trainImgs, labels) in enumerate(processBar):\n",
    "        trainImgs = trainImgs.to(device)\n",
    "        cos_sim = torch.nn.functional.cosine_similarity(target.flatten(), trainImgs.flatten(), dim=0)\n",
    "        sims[index] = cos_sim\n",
    "    sims = sorted(sims.items(), key=lambda x: x[1], reverse=True)\n",
    "    # print(sims[:10])  # (9881, tensor(0.9158))\n",
    "    # print(sims[0][0])  # 9881\n",
    "    \n",
    "    sim_group = []\n",
    "    for i in range(k):\n",
    "        sim_group.append(sims[i][0])\n",
    "\n",
    "    return sim_group\n",
    "\n",
    "def linear_interpolation(target_img, sim_id_group, alpha=0.9): \n",
    "    print(alpha)\n",
    "    target_img = target_img.cuda().reshape([3,32,32])\n",
    "    ip_img = []\n",
    "    sim_img = []\n",
    "    trainDataLoader = torch.utils.data.DataLoader(dataset=clean_train_dataset, batch_size=1)\n",
    "    processBar = tqdm(trainDataLoader, unit='step')\n",
    "    for index, (trainImgs, labels) in enumerate(processBar):\n",
    "        if index in sim_id_group:\n",
    "            sim_img.append(trainImgs)\n",
    "            # img = torchvision.utils.make_grid(clean_train_dataset[index][0]).numpy()\n",
    "            # plt.imshow(np.transpose(img,(1,2,0)))\n",
    "            # plt.show()\n",
    "    for img in sim_img: # img.1,3,32,32\n",
    "        img = img.cuda().reshape([3,32,32])\n",
    "        # print(target_img.shape)\n",
    "        # print(img.shape)\n",
    "        interpolation = alpha * target_img + (1-alpha) * img\n",
    "        ip_img.append(interpolation.reshape([32,32,3]))\n",
    "    ip_img = torch.tensor([img.cpu().detach().numpy() for img in ip_img]).cuda()\n",
    "    return ip_img\n",
    "\n"
   ]
  },
  {
   "cell_type": "code",
   "execution_count": 129,
   "metadata": {},
   "outputs": [],
   "source": [
    "def generate_noise(base_model, criterion, optimizer, interpolation_imgs, intended_labels, MAX_ITERATION=10):\n",
    "    noise = torch.zeros([NUM_POISON, 32, 32, 3]).to(device)\n",
    "    data_iter = iter(interpolation_imgs)\n",
    "    target_labels = torch.tensor([intended_labels,]).to(device)\n",
    "    condition = True\n",
    "    train_idx = 0\n",
    "\n",
    "    while condition:\n",
    "        # optimize theta for M steps\n",
    "        base_model.train()\n",
    "        for param in base_model.parameters():\n",
    "            param.requires_grad = True\n",
    "        for j in range(0, MAX_ITERATION):\n",
    "            try:\n",
    "                images = next(data_iter)\n",
    "            except:\n",
    "                train_idx = 0\n",
    "                data_iter = iter(interpolation_imgs)\n",
    "                images = next(data_iter)\n",
    "            \n",
    "            for i, _ in enumerate(images):\n",
    "                # Update noise to images\n",
    "                images = images.reshape([1, 32, 32, 3])\n",
    "                images += noise[train_idx]\n",
    "                train_idx += 1 if train_idx != len(interpolation_imgs)-1 else 0\n",
    "            images, target_labels = images.cuda(), target_labels.cuda()\n",
    "            base_model.zero_grad()\n",
    "            optimizer.zero_grad()\n",
    "            trans_img = np.transpose(images.detach().cpu().numpy(), (0, 3, 1, 2))\n",
    "            logits = base_model(torch.tensor(trans_img).cuda())\n",
    "            loss = criterion(logits, target_labels)\n",
    "            loss.backward()\n",
    "            torch.nn.utils.clip_grad_norm_(base_model.parameters(), 5.0)\n",
    "            optimizer.step()\n",
    "        \n",
    "        # Perturbation over entire interpolation_imgs\n",
    "        idx = 0\n",
    "        for param in base_model.parameters():\n",
    "            param.requires_grad = False\n",
    "        \n",
    "        perturb_img_list = []\n",
    "        for i, (images) in tqdm(enumerate(interpolation_imgs), total=len(interpolation_imgs)):\n",
    "            perturb_img, eta = noise_generator.min_min_attack(images, target_labels, base_model, optimizer, criterion)\n",
    "            perturb_img_list.append(perturb_img.clone().detach().cpu())\n",
    "        for i, delta in enumerate(eta):\n",
    "            # print(noise.shape)\n",
    "            # print(delta.shape)\n",
    "            noise[i] = delta.clone().detach().cpu()\n",
    "            \n",
    "            \n",
    "        # Eval stop condition\n",
    "        eval_idx, total, correct = 0, 0, 0\n",
    "        for i, (images) in enumerate(interpolation_imgs):\n",
    "            for i, _ in enumerate(images):\n",
    "                # Update noise to images\n",
    "                images = images + noise[eval_idx]\n",
    "                eval_idx += 1 if eval_idx != len(interpolation_imgs)-1 else 0\n",
    "            images, target_labels = images.cuda(), target_labels.cuda()\n",
    "            images = torch.tensor(np.transpose(images.detach().cpu().numpy(), (2, 0, 1)), requires_grad=True).cuda()\n",
    "            images = images.unsqueeze(0)\n",
    "            # print(images.shape)\n",
    "            with torch.no_grad():\n",
    "                logits = base_model(images)\n",
    "                _, predicted = torch.max(logits.data, 1)\n",
    "                total += target_labels.size(0)\n",
    "                correct += (predicted == target_labels).sum().item()\n",
    "        acc = correct / total\n",
    "        print('Accuracy %.4f' % (acc*100))\n",
    "        if acc > 0.9500:\n",
    "            condition=False     \n",
    "            \n",
    "    perturb_img_list = torch.tensor([img.cpu().detach().numpy() for img in perturb_img_list]).cuda().float()\n",
    "    noise = torch.tensor([img.cpu().detach().numpy() for img in noise]).cuda().float()\n",
    "    \n",
    "    return perturb_img_list, noise"
   ]
  },
  {
   "cell_type": "markdown",
   "metadata": {},
   "source": [
    "# 初始化设置"
   ]
  },
  {
   "cell_type": "code",
   "execution_count": 130,
   "metadata": {},
   "outputs": [],
   "source": [
    "torch.backends.cudnn.enabled = True\n",
    "torch.backends.cudnn.benchmark = True\n",
    "\n",
    "base_model = ResNet18()\n",
    "base_model = base_model.cuda()\n",
    "criterion = torch.nn.CrossEntropyLoss()\n",
    "optimizer = torch.optim.SGD(params=base_model.parameters(), lr=0.1, weight_decay=0.0005, momentum=0.9)\n",
    "\n",
    "noise_generator = PerturbationTool(epsilon=0.03137254901960784, num_steps=20, step_size=0.0031372549019607846)"
   ]
  },
  {
   "cell_type": "markdown",
   "metadata": {},
   "source": [
    "# 从训练集中找出相似度较高的图像"
   ]
  },
  {
   "cell_type": "code",
   "execution_count": 131,
   "metadata": {},
   "outputs": [
    {
     "name": "stderr",
     "output_type": "stream",
     "text": [
      "100%|██████████| 50000/50000 [00:27<00:00, 1801.42step/s]\n"
     ]
    }
   ],
   "source": [
    "similar_imgs = find_similar_img(clean_target, NUM_POISON)"
   ]
  },
  {
   "cell_type": "markdown",
   "metadata": {},
   "source": [
    "# 线性插值，创建毒物集并加入扰动"
   ]
  },
  {
   "cell_type": "code",
   "execution_count": 132,
   "metadata": {},
   "outputs": [
    {
     "name": "stdout",
     "output_type": "stream",
     "text": [
      "0.5\n"
     ]
    },
    {
     "name": "stderr",
     "output_type": "stream",
     "text": [
      "100%|██████████| 50000/50000 [00:15<00:00, 3240.33step/s]\n"
     ]
    }
   ],
   "source": [
    "interpolation_imgs = linear_interpolation(clean_target, similar_imgs, alpha=0.5)  # clean_target:0-1\n",
    "# print(interpolation_imgs.shape)"
   ]
  },
  {
   "cell_type": "code",
   "execution_count": 133,
   "metadata": {},
   "outputs": [
    {
     "data": {
      "image/png": "[encoded data removed]",
      "text/plain": [
       "<Figure size 432x288 with 1 Axes>"
      ]
     },
     "metadata": {
      "needs_background": "light"
     },
     "output_type": "display_data"
    },
    {
     "data": {
      "image/png": "[encoded data removed]",
      "text/plain": [
       "<Figure size 432x288 with 1 Axes>"
      ]
     },
     "metadata": {
      "needs_background": "light"
     },
     "output_type": "display_data"
    }
   ],
   "source": [
    "ip_img = interpolation_imgs[0].detach().cpu().numpy()\n",
    "target_img = clean_target.detach().cpu().numpy()\n",
    "plt.imshow(np.transpose(ip_img,(0,1,2)))\n",
    "plt.show()\n",
    "plt.imshow(np.transpose(target_img,(0,1,2)))\n",
    "plt.show()"
   ]
  },
  {
   "cell_type": "code",
   "execution_count": 134,
   "metadata": {},
   "outputs": [
    {
     "name": "stderr",
     "output_type": "stream",
     "text": [
      "100%|██████████| 50/50 [00:18<00:00,  2.64it/s]\n"
     ]
    },
    {
     "name": "stdout",
     "output_type": "stream",
     "text": [
      "Accuracy 100.0000\n"
     ]
    }
   ],
   "source": [
    "def create_poison_data(new_imgs):\n",
    "    poison_dataset = torch.tensor([img.cpu().detach().numpy() for img in new_imgs]).cuda()\n",
    "    for i in range(len(poison_dataset)):\n",
    "        poison_dataset.data[i] = torch.clamp(poison_dataset.data[i], 0, 1)\n",
    "    return poison_dataset.cuda()\n",
    "\n",
    "raw_dataset = create_poison_data(interpolation_imgs) # 0-1\n",
    "perturb_img_list, noise = generate_noise(base_model, criterion, optimizer, raw_dataset, intended_labels=torch.tensor(INTENDED_LABELS), MAX_ITERATION=10)"
   ]
  },
  {
   "cell_type": "code",
   "execution_count": 135,
   "metadata": {},
   "outputs": [
    {
     "name": "stdout",
     "output_type": "stream",
     "text": [
      "torch.Size([50, 1, 32, 32, 3]) ->perturb_img_list\n",
      "torch.Size([32, 32, 3]) ->test_img\n"
     ]
    },
    {
     "data": {
      "image/png": "[encoded data removed]",
      "text/plain": [
       "<Figure size 640x640 with 1 Axes>"
      ]
     },
     "metadata": {},
     "output_type": "display_data"
    }
   ],
   "source": [
    "# perturb_img_list = perturb_img_list.squeeze(1)\n",
    "print(perturb_img_list.shape, '->perturb_img_list')\n",
    "test_img = perturb_img_list[0].squeeze(0)\n",
    "print(test_img.shape, '->test_img')\n",
    "imshow(test_img)"
   ]
  },
  {
   "cell_type": "code",
   "execution_count": 136,
   "metadata": {},
   "outputs": [
    {
     "data": {
      "image/png": "[encoded data removed]",
      "text/plain": [
       "<Figure size 640x640 with 1 Axes>"
      ]
     },
     "metadata": {},
     "output_type": "display_data"
    },
    {
     "data": {
      "image/png": "[encoded data removed]",
      "text/plain": [
       "<Figure size 640x640 with 1 Axes>"
      ]
     },
     "metadata": {},
     "output_type": "display_data"
    },
    {
     "data": {
      "image/png": "[encoded data removed]",
      "text/plain": [
       "<Figure size 640x640 with 1 Axes>"
      ]
     },
     "metadata": {},
     "output_type": "display_data"
    }
   ],
   "source": [
    "import random\n",
    "import matplotlib.pyplot as plt\n",
    "import matplotlib\n",
    "    \n",
    "def get_pairs_of_imgs(idx):\n",
    "    clean_img = interpolation_imgs.data[idx]\n",
    "    unlearnable_img = perturb_img_list.data[idx].squeeze(0)\n",
    "\n",
    "    x = noise[idx]\n",
    "    x_min = torch.min(x)\n",
    "    x_max = torch.max(x)\n",
    "    noise_norm = (x - x_min) / (x_max - x_min)\n",
    "    noise_norm = torch.clamp(noise_norm, 0, 1)\n",
    "    # print(clean_img.cuda().shape, noise_norm.shape, unlearnable_img.shape)\n",
    "    return [clean_img.cuda(), noise_norm, unlearnable_img]\n",
    "    \n",
    "selected_idx = [0]\n",
    "img_grid = []\n",
    "for idx in selected_idx:\n",
    "    img_grid += get_pairs_of_imgs(idx)\n",
    "    \n",
    "for img in img_grid:\n",
    "    imshow(img)\n",
    "    \n",
    "# imshow(torchvision.utils.make_grid(torch.stack(img_grid), nrow=3, pad_value=255))"
   ]
  },
  {
   "cell_type": "code",
   "execution_count": 137,
   "metadata": {},
   "outputs": [
    {
     "name": "stdout",
     "output_type": "stream",
     "text": [
      "Original label: Frog -> Poisoned label: Ship\n",
      "Universal single poison accuracy: 100.0%\n"
     ]
    }
   ],
   "source": [
    "total_succ = 0\n",
    "for i in range(NUM_POISON):\n",
    "    temp = perturb_img_list[i].squeeze(0).clone().detach().cpu().numpy()\n",
    "    temp = np.transpose(temp, (2, 0, 1))\n",
    "    temp = torch.tensor(temp).cuda().unsqueeze(0)\n",
    "    logits = base_model(temp)\n",
    "    _, predicted = torch.max(logits.data, 1)\n",
    "    result = CLASS[int(predicted)]\n",
    "    if result == CLASS[INTENDED_LABELS]:\n",
    "        total_succ += 1\n",
    "accuracy = total_succ/NUM_POISON\n",
    "print('Original label: {} -> Poisoned label: {}'.format(CLASS[clean_label].capitalize(), CLASS[INTENDED_LABELS].capitalize()))\n",
    "print('Universal single poison accuracy: {}%'.format(accuracy*100))\n",
    "\n",
    "if accuracy > 0.95:\n",
    "    torch.save(perturb_img_list, \"./perturb_img_{}_{}.pt\".format(clean_target_id, INTENDED_LABELS))"
   ]
  },
  {
   "cell_type": "code",
   "execution_count": 145,
   "metadata": {},
   "outputs": [],
   "source": [
    "from torch.utils.data.dataset import Dataset\n",
    "from torchvision import transforms\n",
    " \n",
    "class PoisonDataset(Dataset):\n",
    "    def __init__(self, label):\n",
    "        self.label = label\n",
    "        train_transform = [\n",
    "            # transforms.ToTensor()\n",
    "        ]\n",
    "        self.transformations = transforms.Compose(train_transform)\n",
    "        \n",
    "    def __getitem__(self, index):\n",
    "        data = torch.load(\"./perturb_img_{}_{}.pt\".format(clean_target_id, INTENDED_LABELS))\n",
    "        data = self.transformations(data)\n",
    "        return (img, self.label)\n",
    " \n",
    "    def __len__(self):\n",
    "        return NUM_POISON\n",
    "        \n",
    "poison_dataset = PoisonDataset(INTENDED_LABELS)"
   ]
  },
  {
   "cell_type": "code",
   "execution_count": 146,
   "metadata": {},
   "outputs": [],
   "source": [
    "def train_new_poisoned_model(custom_dataset, MAX_EPOCH=20, BATCH_SIZE=128):\n",
    "    model = ResNet18()\n",
    "    model = model.cuda()\n",
    "    criterion = torch.nn.CrossEntropyLoss()\n",
    "    optimizer = torch.optim.SGD(params=model.parameters(), lr=0.1, weight_decay=0.0005, momentum=0.9)\n",
    "    scheduler = torch.optim.lr_scheduler.CosineAnnealingLR(optimizer, T_max=30, eta_min=0)\n",
    "\n",
    "    unlearnable_loader = DataLoader(custom_dataset, batch_size=BATCH_SIZE,\n",
    "                                    shuffle=True, pin_memory=True,\n",
    "                                    drop_last=False, num_workers=12)\n",
    "    clean_train_dataset = datasets.CIFAR10(root, train=True, download=True, transform=train_transform)\n",
    "    clean_loader = DataLoader(clean_train_dataset, batch_size=BATCH_SIZE,\n",
    "                                    shuffle=True, pin_memory=True,\n",
    "                                    drop_last=False, num_workers=12)\n",
    "    clean_test_dataset = datasets.CIFAR10(root, train=False, download=True, transform=test_transform)\n",
    "    clean_test_loader = DataLoader(dataset=clean_test_dataset, batch_size=BATCH_SIZE,\n",
    "                                    shuffle=False, pin_memory=True,\n",
    "                                    drop_last=False, num_workers=12)\n",
    "    \n",
    "    for epoch in range(MAX_EPOCH):\n",
    "        model.train()\n",
    "        acc_meter = AverageMeter()\n",
    "        loss_meter = AverageMeter()\n",
    "        pbar = tqdm([unlearnable_loader, clean_loader], total=len(unlearnable_loader)+len(clean_loader))\n",
    "        # pbar = tqdm(clean_loader, total=len(clean_loader))\n",
    "        for images, labels in pbar:\n",
    "            images, labels = images.cuda(), labels.cuda()\n",
    "            model.zero_grad()\n",
    "            optimizer.zero_grad()\n",
    "            logits = model(images)\n",
    "            loss = criterion(logits, labels)\n",
    "            loss.backward()\n",
    "            # torch.nn.utils.clip_grad_norm_(model.parameters(), 5.0)\n",
    "            optimizer.step()\n",
    "            \n",
    "            _, predicted = torch.max(logits.data, 1)\n",
    "            acc = (predicted == labels).sum().item()/labels.size(0)\n",
    "            acc_meter.update(acc)\n",
    "            loss_meter.update(loss.item())\n",
    "            pbar.set_description(\"Acc %.4f Loss: %.4f\" % (acc_meter.avg*100, loss_meter.avg))\n",
    "        scheduler.step()\n",
    "        # Eval\n",
    "        model.eval()\n",
    "        correct, total = 0, 0\n",
    "        for i, (images, labels) in enumerate(clean_test_loader):\n",
    "            images, labels = images.cuda(), labels.cuda()\n",
    "            with torch.no_grad():\n",
    "                logits = model(images)\n",
    "                _, predicted = torch.max(logits.data, 1)\n",
    "                total += labels.size(0)\n",
    "                correct += (predicted == labels).sum().item()\n",
    "        acc = correct / total\n",
    "        tqdm.write('Clean Accuracy %.4f' % (acc*100))\n",
    "        # Test target class\n",
    "        # imshow(torch.tensor(clean_test_dataset.data[clean_target_id]).to(device))\n",
    "        target = torch.tensor(np.transpose(clean_test_dataset.data[clean_target_id], (2, 0, 1))).to(device).unsqueeze(0).float()\n",
    "        with torch.no_grad():\n",
    "            logits = model(target)\n",
    "            # print(logits)\n",
    "            _, predicted = torch.max(logits.data, dim=1)\n",
    "            print('Current epoch: {}, Clean class: {}, Expected class: {}, Predicted class: {}'.format(epoch+1, CLASS[clean_label] , CLASS[INTENDED_LABELS], CLASS[int(predicted)]))\n",
    "    return predicted"
   ]
  },
  {
   "cell_type": "code",
   "execution_count": 148,
   "metadata": {},
   "outputs": [
    {
     "name": "stdout",
     "output_type": "stream",
     "text": [
      "Files already downloaded and verified\n",
      "Files already downloaded and verified\n"
     ]
    },
    {
     "name": "stderr",
     "output_type": "stream",
     "text": [
      "  0%|          | 0/392 [00:01<?, ?it/s]\n"
     ]
    },
    {
     "ename": "RuntimeError",
     "evalue": "Caught RuntimeError in DataLoader worker process 0.\nOriginal Traceback (most recent call last):\n  File \"/usr/local/lib/python3.8/dist-packages/torch/utils/data/_utils/worker.py\", line 287, in _worker_loop\n    data = fetcher.fetch(index)\n  File \"/usr/local/lib/python3.8/dist-packages/torch/utils/data/_utils/fetch.py\", line 49, in fetch\n    data = [self.dataset[idx] for idx in possibly_batched_index]\n  File \"/usr/local/lib/python3.8/dist-packages/torch/utils/data/_utils/fetch.py\", line 49, in <listcomp>\n    data = [self.dataset[idx] for idx in possibly_batched_index]\n  File \"/tmp/ipykernel_11566/587542294.py\", line 13, in __getitem__\n    data = torch.load(\"./perturb_img_{}_{}.pt\".format(clean_target_id, INTENDED_LABELS))\n  File \"/usr/local/lib/python3.8/dist-packages/torch/serialization.py\", line 712, in load\n    return _load(opened_zipfile, map_location, pickle_module, **pickle_load_args)\n  File \"/usr/local/lib/python3.8/dist-packages/torch/serialization.py\", line 1046, in _load\n    result = unpickler.load()\n  File \"/usr/local/lib/python3.8/dist-packages/torch/serialization.py\", line 1016, in persistent_load\n    load_tensor(dtype, nbytes, key, _maybe_decode_ascii(location))\n  File \"/usr/local/lib/python3.8/dist-packages/torch/serialization.py\", line 1001, in load_tensor\n    wrap_storage=restore_location(storage, location),\n  File \"/usr/local/lib/python3.8/dist-packages/torch/serialization.py\", line 176, in default_restore_location\n    result = fn(storage, location)\n  File \"/usr/local/lib/python3.8/dist-packages/torch/serialization.py\", line 158, in _cuda_deserialize\n    return obj.cuda(device)\n  File \"/usr/local/lib/python3.8/dist-packages/torch/_utils.py\", line 71, in _cuda\n    with torch.cuda.device(device):\n  File \"/usr/local/lib/python3.8/dist-packages/torch/cuda/__init__.py\", line 274, in __enter__\n    self.prev_idx = torch.cuda.current_device()\n  File \"/usr/local/lib/python3.8/dist-packages/torch/cuda/__init__.py\", line 481, in current_device\n    _lazy_init()\n  File \"/usr/local/lib/python3.8/dist-packages/torch/cuda/__init__.py\", line 206, in _lazy_init\n    raise RuntimeError(\nRuntimeError: Cannot re-initialize CUDA in forked subprocess. To use CUDA with multiprocessing, you must use the 'spawn' start method\n",
     "output_type": "error",
     "traceback": [
      "\u001b[0;31m---------------------------------------------------------------------------\u001b[0m",
      "\u001b[0;31mRuntimeError\u001b[0m                              Traceback (most recent call last)",
      "Input \u001b[0;32mIn [148]\u001b[0m, in \u001b[0;36m<cell line: 1>\u001b[0;34m()\u001b[0m\n\u001b[0;32m----> 1\u001b[0m pred \u001b[38;5;241m=\u001b[39m \u001b[43mtrain_new_poisoned_model\u001b[49m\u001b[43m(\u001b[49m\u001b[43mpoison_dataset\u001b[49m\u001b[43m,\u001b[49m\u001b[43m \u001b[49m\u001b[43mMAX_EPOCH\u001b[49m\u001b[38;5;241;43m=\u001b[39;49m\u001b[38;5;241;43m20\u001b[39;49m\u001b[43m,\u001b[49m\u001b[43m \u001b[49m\u001b[43mBATCH_SIZE\u001b[49m\u001b[38;5;241;43m=\u001b[39;49m\u001b[38;5;241;43m128\u001b[39;49m\u001b[43m)\u001b[49m\n",
      "Input \u001b[0;32mIn [146]\u001b[0m, in \u001b[0;36mtrain_new_poisoned_model\u001b[0;34m(custom_dataset, MAX_EPOCH, BATCH_SIZE)\u001b[0m\n\u001b[1;32m     24\u001b[0m pbar \u001b[38;5;241m=\u001b[39m tqdm([unlearnable_loader, clean_loader], total\u001b[38;5;241m=\u001b[39m\u001b[38;5;28mlen\u001b[39m(unlearnable_loader)\u001b[38;5;241m+\u001b[39m\u001b[38;5;28mlen\u001b[39m(clean_loader))\n\u001b[1;32m     25\u001b[0m \u001b[38;5;66;03m# pbar = tqdm(clean_loader, total=len(clean_loader))\u001b[39;00m\n\u001b[0;32m---> 26\u001b[0m \u001b[38;5;28;01mfor\u001b[39;00m images, labels \u001b[38;5;129;01min\u001b[39;00m pbar:\n\u001b[1;32m     27\u001b[0m     images, labels \u001b[38;5;241m=\u001b[39m images\u001b[38;5;241m.\u001b[39mcuda(), labels\u001b[38;5;241m.\u001b[39mcuda()\n\u001b[1;32m     28\u001b[0m     model\u001b[38;5;241m.\u001b[39mzero_grad()\n",
      "File \u001b[0;32m/usr/local/lib/python3.8/dist-packages/torch/utils/data/dataloader.py:530\u001b[0m, in \u001b[0;36m_BaseDataLoaderIter.__next__\u001b[0;34m(self)\u001b[0m\n\u001b[1;32m    528\u001b[0m \u001b[38;5;28;01mif\u001b[39;00m \u001b[38;5;28mself\u001b[39m\u001b[38;5;241m.\u001b[39m_sampler_iter \u001b[38;5;129;01mis\u001b[39;00m \u001b[38;5;28;01mNone\u001b[39;00m:\n\u001b[1;32m    529\u001b[0m     \u001b[38;5;28mself\u001b[39m\u001b[38;5;241m.\u001b[39m_reset()\n\u001b[0;32m--> 530\u001b[0m data \u001b[38;5;241m=\u001b[39m \u001b[38;5;28;43mself\u001b[39;49m\u001b[38;5;241;43m.\u001b[39;49m\u001b[43m_next_data\u001b[49m\u001b[43m(\u001b[49m\u001b[43m)\u001b[49m\n\u001b[1;32m    531\u001b[0m \u001b[38;5;28mself\u001b[39m\u001b[38;5;241m.\u001b[39m_num_yielded \u001b[38;5;241m+\u001b[39m\u001b[38;5;241m=\u001b[39m \u001b[38;5;241m1\u001b[39m\n\u001b[1;32m    532\u001b[0m \u001b[38;5;28;01mif\u001b[39;00m \u001b[38;5;28mself\u001b[39m\u001b[38;5;241m.\u001b[39m_dataset_kind \u001b[38;5;241m==\u001b[39m _DatasetKind\u001b[38;5;241m.\u001b[39mIterable \u001b[38;5;129;01mand\u001b[39;00m \\\n\u001b[1;32m    533\u001b[0m         \u001b[38;5;28mself\u001b[39m\u001b[38;5;241m.\u001b[39m_IterableDataset_len_called \u001b[38;5;129;01mis\u001b[39;00m \u001b[38;5;129;01mnot\u001b[39;00m \u001b[38;5;28;01mNone\u001b[39;00m \u001b[38;5;129;01mand\u001b[39;00m \\\n\u001b[1;32m    534\u001b[0m         \u001b[38;5;28mself\u001b[39m\u001b[38;5;241m.\u001b[39m_num_yielded \u001b[38;5;241m>\u001b[39m \u001b[38;5;28mself\u001b[39m\u001b[38;5;241m.\u001b[39m_IterableDataset_len_called:\n",
      "File \u001b[0;32m/usr/local/lib/python3.8/dist-packages/torch/utils/data/dataloader.py:1224\u001b[0m, in \u001b[0;36m_MultiProcessingDataLoaderIter._next_data\u001b[0;34m(self)\u001b[0m\n\u001b[1;32m   1222\u001b[0m \u001b[38;5;28;01melse\u001b[39;00m:\n\u001b[1;32m   1223\u001b[0m     \u001b[38;5;28;01mdel\u001b[39;00m \u001b[38;5;28mself\u001b[39m\u001b[38;5;241m.\u001b[39m_task_info[idx]\n\u001b[0;32m-> 1224\u001b[0m     \u001b[38;5;28;01mreturn\u001b[39;00m \u001b[38;5;28;43mself\u001b[39;49m\u001b[38;5;241;43m.\u001b[39;49m\u001b[43m_process_data\u001b[49m\u001b[43m(\u001b[49m\u001b[43mdata\u001b[49m\u001b[43m)\u001b[49m\n",
      "File \u001b[0;32m/usr/local/lib/python3.8/dist-packages/torch/utils/data/dataloader.py:1250\u001b[0m, in \u001b[0;36m_MultiProcessingDataLoaderIter._process_data\u001b[0;34m(self, data)\u001b[0m\n\u001b[1;32m   1248\u001b[0m \u001b[38;5;28mself\u001b[39m\u001b[38;5;241m.\u001b[39m_try_put_index()\n\u001b[1;32m   1249\u001b[0m \u001b[38;5;28;01mif\u001b[39;00m \u001b[38;5;28misinstance\u001b[39m(data, ExceptionWrapper):\n\u001b[0;32m-> 1250\u001b[0m     \u001b[43mdata\u001b[49m\u001b[38;5;241;43m.\u001b[39;49m\u001b[43mreraise\u001b[49m\u001b[43m(\u001b[49m\u001b[43m)\u001b[49m\n\u001b[1;32m   1251\u001b[0m \u001b[38;5;28;01mreturn\u001b[39;00m data\n",
      "File \u001b[0;32m/usr/local/lib/python3.8/dist-packages/torch/_utils.py:457\u001b[0m, in \u001b[0;36mExceptionWrapper.reraise\u001b[0;34m(self)\u001b[0m\n\u001b[1;32m    453\u001b[0m \u001b[38;5;28;01mexcept\u001b[39;00m \u001b[38;5;167;01mTypeError\u001b[39;00m:\n\u001b[1;32m    454\u001b[0m     \u001b[38;5;66;03m# If the exception takes multiple arguments, don't try to\u001b[39;00m\n\u001b[1;32m    455\u001b[0m     \u001b[38;5;66;03m# instantiate since we don't know how to\u001b[39;00m\n\u001b[1;32m    456\u001b[0m     \u001b[38;5;28;01mraise\u001b[39;00m \u001b[38;5;167;01mRuntimeError\u001b[39;00m(msg) \u001b[38;5;28;01mfrom\u001b[39;00m \u001b[38;5;28mNone\u001b[39m\n\u001b[0;32m--> 457\u001b[0m \u001b[38;5;28;01mraise\u001b[39;00m exception\n",
      "\u001b[0;31mRuntimeError\u001b[0m: Caught RuntimeError in DataLoader worker process 0.\nOriginal Traceback (most recent call last):\n  File \"/usr/local/lib/python3.8/dist-packages/torch/utils/data/_utils/worker.py\", line 287, in _worker_loop\n    data = fetcher.fetch(index)\n  File \"/usr/local/lib/python3.8/dist-packages/torch/utils/data/_utils/fetch.py\", line 49, in fetch\n    data = [self.dataset[idx] for idx in possibly_batched_index]\n  File \"/usr/local/lib/python3.8/dist-packages/torch/utils/data/_utils/fetch.py\", line 49, in <listcomp>\n    data = [self.dataset[idx] for idx in possibly_batched_index]\n  File \"/tmp/ipykernel_11566/587542294.py\", line 13, in __getitem__\n    data = torch.load(\"./perturb_img_{}_{}.pt\".format(clean_target_id, INTENDED_LABELS))\n  File \"/usr/local/lib/python3.8/dist-packages/torch/serialization.py\", line 712, in load\n    return _load(opened_zipfile, map_location, pickle_module, **pickle_load_args)\n  File \"/usr/local/lib/python3.8/dist-packages/torch/serialization.py\", line 1046, in _load\n    result = unpickler.load()\n  File \"/usr/local/lib/python3.8/dist-packages/torch/serialization.py\", line 1016, in persistent_load\n    load_tensor(dtype, nbytes, key, _maybe_decode_ascii(location))\n  File \"/usr/local/lib/python3.8/dist-packages/torch/serialization.py\", line 1001, in load_tensor\n    wrap_storage=restore_location(storage, location),\n  File \"/usr/local/lib/python3.8/dist-packages/torch/serialization.py\", line 176, in default_restore_location\n    result = fn(storage, location)\n  File \"/usr/local/lib/python3.8/dist-packages/torch/serialization.py\", line 158, in _cuda_deserialize\n    return obj.cuda(device)\n  File \"/usr/local/lib/python3.8/dist-packages/torch/_utils.py\", line 71, in _cuda\n    with torch.cuda.device(device):\n  File \"/usr/local/lib/python3.8/dist-packages/torch/cuda/__init__.py\", line 274, in __enter__\n    self.prev_idx = torch.cuda.current_device()\n  File \"/usr/local/lib/python3.8/dist-packages/torch/cuda/__init__.py\", line 481, in current_device\n    _lazy_init()\n  File \"/usr/local/lib/python3.8/dist-packages/torch/cuda/__init__.py\", line 206, in _lazy_init\n    raise RuntimeError(\nRuntimeError: Cannot re-initialize CUDA in forked subprocess. To use CUDA with multiprocessing, you must use the 'spawn' start method\n"
     ]
    }
   ],
   "source": [
    "pred = train_new_poisoned_model(poison_dataset, MAX_EPOCH=20, BATCH_SIZE=128)"
   ]
  },
  {
   "cell_type": "code",
   "execution_count": null,
   "metadata": {},
   "outputs": [],
   "source": []
  }
 ],
 "metadata": {
  "kernelspec": {
   "display_name": "Python 3 (ipykernel)",
   "language": "python",
   "name": "python3"
  },
  "language_info": {
   "codemirror_mode": {
    "name": "ipython",
    "version": 3
   },
   "file_extension": ".py",
   "mimetype": "text/x-python",
   "name": "python",
   "nbconvert_exporter": "python",
   "pygments_lexer": "ipython3",
   "version": "3.8.13"
  },
  "vscode": {
   "interpreter": {
    "hash": "4932ccbec8dcca49d9ef47811dcb7514042770e3fab3c95640310a655c241a7c"
   }
  }
 },
 "nbformat": 4,
 "nbformat_minor": 4
}
